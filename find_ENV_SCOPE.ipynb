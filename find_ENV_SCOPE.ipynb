{
 "cells": [
  {
   "cell_type": "code",
   "execution_count": 1,
   "metadata": {},
   "outputs": [
    {
     "name": "stdout",
     "output_type": "stream",
     "text": [
      "Center of environment: [ 36.74782893 178.77706895   2.8335669 ]\n",
      "Radius of environment: 21705.273885407474\n"
     ]
    }
   ],
   "source": [
    "import numpy as np\n",
    "\n",
    "def parse_images_file(file_path):\n",
    "    translations = []\n",
    "\n",
    "    with open(file_path, 'r') as file:\n",
    "        lines = file.readlines()\n",
    "\n",
    "        # Skip header and process each image entry\n",
    "        for line in lines:\n",
    "            if line.startswith('#') or len(line.strip()) == 0:\n",
    "                continue\n",
    "\n",
    "            # Split the line by space\n",
    "            parts = line.split()\n",
    "\n",
    "            # Extract translation components: TX, TY, TZ\n",
    "            tx, ty, tz = float(parts[5]), float(parts[6]), float(parts[7])\n",
    "            translations.append([tx, ty, tz])\n",
    "\n",
    "    return np.array(translations)\n",
    "\n",
    "def calculate_center_and_radius(translations):\n",
    "    # Calculate center as the mean of all translations\n",
    "    center = np.mean(translations, axis=0)\n",
    "\n",
    "    # Calculate distances from center\n",
    "    distances = np.linalg.norm(translations - center, axis=1)\n",
    "\n",
    "    # Radius is the maximum distance\n",
    "    radius = np.max(distances)\n",
    "\n",
    "    return center, radius\n",
    "\n",
    "# Main script\n",
    "file_path = input('input file path where \"image.bin\" lies.')  # Replace with the actual path to your file\n",
    "translations = parse_images_file(file_path)\n",
    "center, radius = calculate_center_and_radius(translations)\n",
    "\n",
    "print(f\"Center of environment: {center}\")\n",
    "print(f\"Radius of environment: {radius}\")"
   ]
  }
 ],
 "metadata": {
  "kernelspec": {
   "display_name": "deffer",
   "language": "python",
   "name": "python3"
  },
  "language_info": {
   "name": "python",
   "version": "3.8.19"
  }
 },
 "nbformat": 4,
 "nbformat_minor": 2
}
